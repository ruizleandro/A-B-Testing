{
  "nbformat": 4,
  "nbformat_minor": 0,
  "metadata": {
    "colab": {
      "name": "A/B Testing.ipynb",
      "provenance": [],
      "collapsed_sections": [],
      "authorship_tag": "ABX9TyMf+GxBa8Pzo2t/aHumBavm",
      "include_colab_link": true
    },
    "kernelspec": {
      "name": "python3",
      "display_name": "Python 3"
    }
  },
  "cells": [
    {
      "cell_type": "markdown",
      "metadata": {
        "id": "view-in-github",
        "colab_type": "text"
      },
      "source": [
        "<a href=\"https://colab.research.google.com/github/ruizleandro/A-B-Testing/blob/master/A_B_Testing.ipynb\" target=\"_parent\"><img src=\"https://colab.research.google.com/assets/colab-badge.svg\" alt=\"Open In Colab\"/></a>"
      ]
    },
    {
      "cell_type": "markdown",
      "metadata": {
        "id": "TsUjThWDRW4z",
        "colab_type": "text"
      },
      "source": [
        "# Midiendo T-statistic y p-value en Python"
      ]
    },
    {
      "cell_type": "code",
      "metadata": {
        "id": "zIwsHCZYROkT",
        "colab_type": "code",
        "colab": {
          "base_uri": "https://localhost:8080/",
          "height": 34
        },
        "outputId": "091800cc-5b5b-472c-bf57-4c76db821248"
      },
      "source": [
        "import numpy as np\n",
        "from scipy import stats\n",
        "\n",
        "# parametros: promedio, desviacion estandar y numero de muestras\n",
        "A = np.random.normal(25.0, 5.0, 10000)\n",
        "B = np.random.normal(26.0, 5.0, 10000)\n",
        "\n",
        "stats.ttest_ind(A, B)"
      ],
      "execution_count": 4,
      "outputs": [
        {
          "output_type": "execute_result",
          "data": {
            "text/plain": [
              "Ttest_indResult(statistic=-14.702166911741832, pvalue=1.1209149921150975e-48)"
            ]
          },
          "metadata": {
            "tags": []
          },
          "execution_count": 4
        }
      ]
    },
    {
      "cell_type": "markdown",
      "metadata": {
        "id": "VQSL0TKaSEda",
        "colab_type": "text"
      },
      "source": [
        "Podes jugar con los valores de los dos grupos y ver como influencia en el valor-p y en el test-T.\n",
        "\n",
        "Por ejemplo, si realizamos un A/A test:"
      ]
    },
    {
      "cell_type": "code",
      "metadata": {
        "id": "95b3R_s8S8rc",
        "colab_type": "code",
        "colab": {
          "base_uri": "https://localhost:8080/",
          "height": 34
        },
        "outputId": "4b1d5585-6404-41bb-eef7-2682f1295924"
      },
      "source": [
        "import numpy as np\n",
        "from scipy import stats\n",
        "\n",
        "A = np.random.normal(25.0, 5.0, 10000)\n",
        "\n",
        "stats.ttest_ind(A, A)"
      ],
      "execution_count": 6,
      "outputs": [
        {
          "output_type": "execute_result",
          "data": {
            "text/plain": [
              "Ttest_indResult(statistic=0.0, pvalue=1.0)"
            ]
          },
          "metadata": {
            "tags": []
          },
          "execution_count": 6
        }
      ]
    },
    {
      "cell_type": "markdown",
      "metadata": {
        "id": "M4wZiLicTGOi",
        "colab_type": "text"
      },
      "source": [
        "El valor del test-T es 0, sugiriendo que no hubo cambios ya que el promedio es el mismo. El valor-p es 1, confirmando que el resultado del experimento es confiable."
      ]
    }
  ]
}